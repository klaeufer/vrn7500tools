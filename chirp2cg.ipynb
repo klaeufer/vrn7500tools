{
 "cells": [
  {
   "cell_type": "code",
   "execution_count": 1,
   "metadata": {},
   "outputs": [
    {
     "name": "stderr",
     "output_type": "stream",
     "text": [
      "WARNING:root:skipping K4QHR, unsupported mode P25\n",
      "WARNING:root:skipping AE4S, unsupported mode P25\n",
      "WARNING:root:skipping AE4S, unsupported mode P25\n"
     ]
    },
    {
     "name": "stdout",
     "output_type": "stream",
     "text": [
      "{\n",
      "  \"n\": \"Chicagoland\",\n",
      "  \"chs\": [\n",
      "    {\n",
      "      \"n\": \"AB4GE\",\n",
      "      \"rf\": \"444.07500\",\n",
      "      \"s\": 1,\n",
      "      \"eb\": 1,\n",
      "      \"id\": 1,\n",
      "      \"p\": -2,\n",
      "      \"tf\": \"449.075\",\n",
      "      \"ts\": 10000,\n",
      "      \"rs\": 10000\n",
      "    },\n",
      "    {\n",
      "      \"n\": \"K4TLH\",\n",
      "      \"rf\": \"147.03000\",\n",
      "      \"s\": 1,\n",
      "      \"eb\": 1,\n",
      "      \"id\": 1,\n",
      "      \"p\": -2,\n",
      "      \"tf\": \"147.63\",\n",
      "      \"ts\": 9480,\n",
      "      \"rs\": 9480\n",
      "    },\n",
      "    {\n",
      "      \"n\": \"W4FAO\",\n",
      "      \"rf\": \"145.19000\",\n",
      "      \"s\": 1,\n",
      "      \"eb\": 1,\n",
      "      \"id\": 1,\n",
      "      \"p\": -2,\n",
      "      \"tf\": \"144.59\",\n",
      "      \"ts\": 12300,\n",
      "      \"rs\": 12300\n",
      "    },\n",
      "    {\n",
      "      \"n\": \"W4AAZ\",\n",
      "      \"rf\": \"147.36000\",\n",
      "      \"s\": 1,\n",
      "      \"eb\": 1,\n",
      "      \"id\": 1,\n",
      "      \"p\": -2,\n",
      "      \"tf\": \"147.96\",\n",
      "      \"ts\": 10000,\n",
      "      \"rs\": 10000\n",
      "    },\n",
      "    null,\n",
      "    null,\n",
      "    null,\n",
      "    null,\n",
      "    null,\n",
      "    null,\n",
      "    null,\n",
      "    null,\n",
      "    null,\n",
      "    null,\n",
      "    {\n",
      "      \"n\": \"146.52\",\n",
      "      \"rf\": \"146.52\",\n",
      "      \"tf\": \"146.52\",\n",
      "      \"ts\": 10000,\n",
      "      \"eb\": 1,\n",
      "      \"id\": 1,\n",
      "      \"p\": -2\n",
      "    },\n",
      "    {\n",
      "      \"n\": \"APRS\",\n",
      "      \"rf\": \"144.390\",\n",
      "      \"tf\": \"144.390\",\n",
      "      \"ts\": 10000,\n",
      "      \"eb\": 1,\n",
      "      \"id\": 1,\n",
      "      \"p\": -2\n",
      "    }\n",
      "  ]\n",
      "}\n"
     ]
    }
   ],
   "source": [
    "# IMPORTANT: restart Jupyter kernel after every change in code\n",
    "\n",
    "fname = 'i10fl.csv'\n",
    "\n",
    "import logging\n",
    "logging.basicConfig(level=logging.DEBUG)\n",
    "\n",
    "import csv\n",
    "csvfile = open(fname, newline='')\n",
    "\n",
    "import vrn7500tools.helpers\n",
    "vrn7500tools.helpers.chirp2cg(csvfile, \"I-10 FL\")"
   ]
  }
 ],
 "metadata": {
  "interpreter": {
   "hash": "bd1bb25387c377d8c094da918eaf446fa011b0d47eb1f05cf16a4d7f87eb84e9"
  },
  "kernelspec": {
   "display_name": "Python 3.8.10 64-bit ('venv-dataengineering': virtualenv)",
   "language": "python",
   "name": "python3"
  },
  "language_info": {
   "codemirror_mode": {
    "name": "ipython",
    "version": 3
   },
   "file_extension": ".py",
   "mimetype": "text/x-python",
   "name": "python",
   "nbconvert_exporter": "python",
   "pygments_lexer": "ipython3",
   "version": "3.8.10"
  },
  "orig_nbformat": 4
 },
 "nbformat": 4,
 "nbformat_minor": 2
}
